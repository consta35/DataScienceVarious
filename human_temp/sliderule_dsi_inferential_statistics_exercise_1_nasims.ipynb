{
 "cells": [
  {
   "cell_type": "markdown",
   "metadata": {},
   "source": [
    "# What is the True Normal Human Body Temperature? \n",
    "\n",
    "#### Background\n",
    "\n",
    "The mean normal body temperature was held to be 37$^{\\circ}$C or 98.6$^{\\circ}$F for more than 120 years since it was first conceptualized and reported by Carl Wunderlich in a famous 1868 book. But, is this value statistically correct?"
   ]
  },
  {
   "cell_type": "markdown",
   "metadata": {},
   "source": [
    "<h3>Exercises</h3>\n",
    "\n",
    "<p>In this exercise, you will analyze a dataset of human body temperatures and employ the concepts of hypothesis testing, confidence intervals, and statistical significance.</p>\n",
    "\n",
    "<p>Answer the following questions <b>in this notebook below and submit to your Github account</b>.</p> \n",
    "\n",
    "<ol>\n",
    "<li>  Is the distribution of body temperatures normal? \n",
    "    <ul>\n",
    "    <li> Although this is not a requirement for CLT to hold (read CLT carefully), it gives us some peace of mind that the population may also be normally distributed if we assume that this sample is representative of the population.\n",
    "    </ul>\n",
    "<li>  Is the sample size large? Are the observations independent?\n",
    "    <ul>\n",
    "    <li> Remember that this is a condition for the CLT, and hence the statistical tests we are using, to apply.\n",
    "    </ul>\n",
    "<li>  Is the true population mean really 98.6 degrees F?\n",
    "    <ul>\n",
    "    <li> Would you use a one-sample or two-sample test? Why?\n",
    "    <li> In this situation, is it appropriate to use the $t$ or $z$ statistic? \n",
    "    <li> Now try using the other test. How is the result be different? Why?\n",
    "    </ul>\n",
    "<li>  Draw a small sample of size 10 from the data and repeat both tests. \n",
    "    <ul>\n",
    "    <li> Which one is the correct one to use? \n",
    "    <li> What do you notice? What does this tell you about the difference in application of the $t$ and $z$ statistic?\n",
    "    </ul>\n",
    "<li>  At what temperature should we consider someone's temperature to be \"abnormal\"?\n",
    "    <ul>\n",
    "    <li> Start by computing the margin of error and confidence interval.\n",
    "    </ul>\n",
    "<li>  Is there a significant difference between males and females in normal temperature?\n",
    "    <ul>\n",
    "    <li> What test did you use and why?\n",
    "    <li> Write a story with your conclusion in the context of the original problem.\n",
    "    </ul>\n",
    "</ol>\n",
    "\n",
    "You can include written notes in notebook cells using Markdown: \n",
    "   - In the control panel at the top, choose Cell > Cell Type > Markdown\n",
    "   - Markdown syntax: http://nestacms.com/docs/creating-content/markdown-cheat-sheet\n",
    "\n",
    "#### Resources\n",
    "\n",
    "+ Information and data sources: http://www.amstat.org/publications/jse/datasets/normtemp.txt, http://www.amstat.org/publications/jse/jse_data_archive.htm\n",
    "+ Markdown syntax: http://nestacms.com/docs/creating-content/markdown-cheat-sheet\n",
    "\n",
    "****"
   ]
  },
  {
   "cell_type": "code",
   "execution_count": 145,
   "metadata": {},
   "outputs": [
    {
     "name": "stdout",
     "output_type": "stream",
     "text": [
      "   temperature gender  heart_rate\n",
      "0         99.3      F        68.0\n",
      "1         98.4      F        81.0\n",
      "2         97.8      M        73.0\n",
      "3         99.2      F        66.0\n",
      "4         98.0      F        73.0\n",
      "<class 'pandas.core.frame.DataFrame'>\n",
      "RangeIndex: 130 entries, 0 to 129\n",
      "Data columns (total 3 columns):\n",
      "temperature    130 non-null float64\n",
      "gender         130 non-null object\n",
      "heart_rate     130 non-null float64\n",
      "dtypes: float64(2), object(1)\n",
      "memory usage: 3.1+ KB\n"
     ]
    }
   ],
   "source": [
    "import pandas as pd\n",
    "import numpy as np\n",
    "import matplotlib.pyplot as plt\n",
    "import seaborn as sns\n",
    "\n",
    "df = pd.read_csv('data/human_body_temperature.csv')\n",
    "print(df.head())\n",
    "df.info()"
   ]
  },
  {
   "cell_type": "markdown",
   "metadata": {},
   "source": [
    "### 1. Is the distribution of body temperatures normal?"
   ]
  },
  {
   "cell_type": "code",
   "execution_count": 146,
   "metadata": {},
   "outputs": [
    {
     "name": "stdout",
     "output_type": "stream",
     "text": [
      "98.24923076923078 0.7303577789050377\n"
     ]
    }
   ],
   "source": [
    "# Compute mean and std:\n",
    "mu = np.mean(df.temperature)\n",
    "sigma = np.std(df.temperature)\n",
    "print(mu, sigma)"
   ]
  },
  {
   "cell_type": "code",
   "execution_count": 147,
   "metadata": {},
   "outputs": [],
   "source": [
    "# Sampling out of normal distribution:\n",
    "samples = np.random.normal(mu, sigma, 10000)"
   ]
  },
  {
   "cell_type": "code",
   "execution_count": 148,
   "metadata": {
    "collapsed": true
   },
   "outputs": [],
   "source": [
    "# A function to calculate ECDF:\n",
    "def ecdf (data):\n",
    "    x = np.sort(data)\n",
    "    y = np.linspace(0,1, len(data), endpoint=False)\n",
    "    return x, y"
   ]
  },
  {
   "cell_type": "code",
   "execution_count": 149,
   "metadata": {},
   "outputs": [
    {
     "data": {
      "image/png": "[encoded data removed]",
      "text/plain": [
       "<matplotlib.figure.Figure at 0x1a125049b0>"
      ]
     },
     "metadata": {},
     "output_type": "display_data"
    }
   ],
   "source": [
    "x_theor , y_theor = ecdf(samples)\n",
    "x, y = ecdf (df.temperature)\n",
    "_ = plt.plot(x_theor , y_theor, marker = \".\", linestyle = \"none\", color = \"blue\")\n",
    "_ = plt.plot(x , y, marker = \".\", linestyle = \"none\", color = \"red\")\n",
    "_ = plt.xlabel(\"Body Temperature [F]\")\n",
    "_ = plt.ylabel(\"ECDF\")\n",
    "_ = plt.legend((\"Normal Distribution\", \"Actual Data\"))\n",
    "plt.show()"
   ]
  },
  {
   "cell_type": "markdown",
   "metadata": {},
   "source": [
    "#### The ECDF plot confirms that the distribution of body temperature is normal."
   ]
  },
  {
   "cell_type": "markdown",
   "metadata": {},
   "source": [
    "### 2. Is the sample size large? Are the observations independent?"
   ]
  },
  {
   "cell_type": "markdown",
   "metadata": {},
   "source": [
    "#### Sample size = 130 > 30. So the sample size is large. The obzervations are undependent since they are taken from different people and one person's body temperature is not affected by other people body temperatures."
   ]
  },
  {
   "cell_type": "markdown",
   "metadata": {},
   "source": [
    "### 3. Is the true population mean really 98.6 degrees F?"
   ]
  },
  {
   "cell_type": "markdown",
   "metadata": {},
   "source": [
    "#### Would you use a one-sample or two-sample test? Why? \n",
    "I would use one-sample test because we only have one set of data."
   ]
  },
  {
   "cell_type": "markdown",
   "metadata": {},
   "source": [
    "#### In this situation, is it appropriate to use the t or  z statistic?\n",
    "Since the number of sample is 130 which is greater than 30, we should use z-statistic. \n"
   ]
  },
  {
   "cell_type": "code",
   "execution_count": 150,
   "metadata": {},
   "outputs": [
    {
     "data": {
      "text/plain": [
       "0.7303577789050377"
      ]
     },
     "execution_count": 150,
     "metadata": {},
     "output_type": "execute_result"
    }
   ],
   "source": [
    "np.std(df.temperature)"
   ]
  },
  {
   "cell_type": "code",
   "execution_count": 151,
   "metadata": {},
   "outputs": [
    {
     "name": "stdout",
     "output_type": "stream",
     "text": [
      "z-statistic for the original data: -5.47592520208\n",
      "p-value:  0.0\n"
     ]
    }
   ],
   "source": [
    "# Null hypothesis: the actual population mean is 98.6\n",
    "# test statistic: z-statistic \n",
    "def z_stat (data, mu=98.6, sigma=0.7303577789050377):\n",
    "    return ((np.mean(data)-mu)/sigma*np.sqrt(len(data)))\n",
    "\n",
    "# Calculated z statistic for original data\n",
    "z_stat_orig = z_stat(df.temperature)\n",
    "    \n",
    "# Define bootstrapping functions\n",
    "def bootstrap_replicate_1d(data, func):\n",
    "    return (func(np.random.choice(data, size=len(data))))\n",
    "\n",
    "# Draw bootstrap replicates\n",
    "def draw_bs_reps(data, func, size=1):\n",
    "    bs_reps = np.empty(size)\n",
    "    \n",
    "    for i in range(size):\n",
    "        bs_reps[i] = bootstrap_replicate_1d(data, func)\n",
    "        \n",
    "    return bs_reps   \n",
    "\n",
    "# Assume the actual mean of data is 98.6. So we create shifted data:\n",
    "\n",
    "shidted_temp = df.temperature - np.mean(df.temperature) + 98.6\n",
    "\n",
    "# Draw bootsrap replicates from the data:\n",
    "z_replicates = draw_bs_reps(shidted_temp, z_stat, size = 10000)\n",
    "\n",
    "p_z = np.sum(np.abs(z_replicates) >= np.abs(z_stat_orig))/len(z_replicates)\n",
    "\n",
    "print('z-statistic for the original data:', z_stat_orig)\n",
    "print(\"p-value: \", p_z)"
   ]
  },
  {
   "cell_type": "markdown",
   "metadata": {},
   "source": [
    "#### The p-value is zero. So the probability of having a mean of 98.6 in all 10000 trials is zero. So we reject the null hypothesis. The population mean is not 98.6"
   ]
  },
  {
   "cell_type": "code",
   "execution_count": 152,
   "metadata": {},
   "outputs": [
    {
     "name": "stdout",
     "output_type": "stream",
     "text": [
      "t-statistic for the original data: -5.47592520208\n",
      "p-value:  0.0\n"
     ]
    }
   ],
   "source": [
    "# We repeat the same calculation with t-statistic\n",
    "# Null hypothesis: the actual population mean is 98.6\n",
    "# test statistic: t-statistic \n",
    "def t_stat (data, mu=98.6):\n",
    "    return ((np.mean(data)-mu)/np.std(data)*np.sqrt(len(data)))\n",
    "\n",
    "# Calculated t statistic for original data\n",
    "t_stat_orig = t_stat(df.temperature)\n",
    "\n",
    "# Draw bootsrap replicates from the data:\n",
    "t_replicates = draw_bs_reps(shidted_temp, t_stat, size = 10000)\n",
    "\n",
    "p_t = np.sum(np.abs(t_replicates) >= np.abs(t_stat_orig))/len(t_replicates)\n",
    "\n",
    "print('t-statistic for the original data:', t_stat_orig)\n",
    "print(\"p-value: \", p_t)\n",
    "    \n",
    "\n"
   ]
  },
  {
   "cell_type": "markdown",
   "metadata": {},
   "source": [
    "#### The results of t-statistic and z-statistic are the same. This is because the number of sample points are high and also since we do not have the population std, we had to estimate it with the sample std in both cases."
   ]
  },
  {
   "cell_type": "markdown",
   "metadata": {},
   "source": [
    "### 4. Draw a small sample of size 10 from the data and repeat both tests.\n",
    "#### Which one is the correct one to use?\n",
    "Since the sample size is smaller than 30 and the population std is unknown, the t-statistic should be used."
   ]
  },
  {
   "cell_type": "code",
   "execution_count": 153,
   "metadata": {},
   "outputs": [
    {
     "name": "stdout",
     "output_type": "stream",
     "text": [
      "t-statistic for the n=10 data: -2.41407837668\n",
      "p-value for n=10 data:  0.0647\n"
     ]
    }
   ],
   "source": [
    "# Resampling a small sample of size 10 from the data:\n",
    "small_data = np.random.choice(df.temperature, size = 10)\n",
    "\n",
    "# We repeat the same calculation with t-statistic with this small sample\n",
    "# Null hypothesis: the actual population mean is 98.6\n",
    "# test statistic: t-statistic \n",
    "\n",
    "# Assume the actual mean of data is 98.6. So we create shifted data:\n",
    "\n",
    "shidted_temp_small = small_data - np.mean(small_data) + 98.6\n",
    "\n",
    "# Calculated t statistic for original data\n",
    "t_stat_orig_small = t_stat(small_data)\n",
    "\n",
    "# Draw bootsrap replicates from the data:\n",
    "t_replicates_small = draw_bs_reps(shidted_temp_small, t_stat, size = 10000)\n",
    "\n",
    "p_t_s = np.sum(np.abs(t_replicates_small) >= np.abs(t_stat_orig_small))/len(t_replicates_small)\n",
    "\n",
    "print('t-statistic for the n=10 data:', t_stat_orig_small)\n",
    "print(\"p-value for n=10 data: \", p_t_s)\n"
   ]
  },
  {
   "cell_type": "code",
   "execution_count": 154,
   "metadata": {},
   "outputs": [
    {
     "name": "stdout",
     "output_type": "stream",
     "text": [
      "z-statistic for the n=10 data: -1.34222719736\n",
      "p-value for n=10 data:  0.0168\n"
     ]
    }
   ],
   "source": [
    "# We repeat the same calculation with z-statistic with the small sample\n",
    "# Null hypothesis: the actual population mean is 98.6\n",
    "# test statistic: z-statistic \n",
    "\n",
    "# Calculated z statistic for original data\n",
    "z_stat_orig_small = z_stat(small_data)\n",
    "\n",
    "# Draw bootsrap replicates from the data:\n",
    "z_replicates_small = draw_bs_reps(shidted_temp_small, z_stat, size = 10000)\n",
    "\n",
    "p_z_s = np.sum(np.abs(z_replicates_small) >= np.abs(z_stat_orig_small))/len(z_replicates_small)\n",
    "\n",
    "print('z-statistic for the n=10 data:', z_stat_orig_small)\n",
    "print(\"p-value for n=10 data: \", p_z_s)\n"
   ]
  },
  {
   "cell_type": "markdown",
   "metadata": {},
   "source": [
    "#### What do you notice? What does this tell you about the difference in application of the  t and  z statistic?\n",
    "Since the number of samples is small, t and z statistics produce different results. "
   ]
  },
  {
   "cell_type": "markdown",
   "metadata": {},
   "source": [
    "### 5. At what temperature should we consider someone's temperature to be \"abnormal\"?\n",
    "#### Start by computing the margin of error and confidence interval."
   ]
  },
  {
   "cell_type": "code",
   "execution_count": 155,
   "metadata": {},
   "outputs": [
    {
     "name": "stdout",
     "output_type": "stream",
     "text": [
      "low and high confidence intervals:  98.1199807692 98.3769423077\n",
      "Margin of error for 95% confidence interval:  0.128480769231\n"
     ]
    }
   ],
   "source": [
    "# Calculate the mean bootstrap replicates from the data:\n",
    "\n",
    "bs_reps = draw_bs_reps(df.temperature, np.mean, size =10000)\n",
    "\n",
    "# Calculate 95% confidence interval:\n",
    "a, b = np.percentile(bs_reps, [2.5, 97.5])\n",
    "\n",
    "print(\"low and high confidence intervals: \", a, b)\n",
    "\n",
    "margin_error = (b-a)/2\n",
    "\n",
    "print(\"Margin of error for 95% confidence interval: \", margin_error)\n"
   ]
  },
  {
   "cell_type": "markdown",
   "metadata": {},
   "source": [
    "#### So 99% of people have temperatures between these two values. So if someone temperature is out of this range, that should be considered abnormal."
   ]
  },
  {
   "cell_type": "markdown",
   "metadata": {},
   "source": [
    "### 6. Is there a significant difference between males and females in normal temperature?\n",
    "#### What test did you use and why?\n",
    "We can use permutation since we are having two sample and we will do hypothesis test on them\n",
    "#### Write a story with your conclusion in the context of the original problem."
   ]
  },
  {
   "cell_type": "code",
   "execution_count": 156,
   "metadata": {},
   "outputs": [],
   "source": [
    "temp_female = df.loc[df[\"gender\"]== \"F\"][\"temperature\"]\n",
    "temp_male = df.loc[df[\"gender\"]== \"M\"][\"temperature\"]"
   ]
  },
  {
   "cell_type": "code",
   "execution_count": 160,
   "metadata": {},
   "outputs": [
    {
     "name": "stdout",
     "output_type": "stream",
     "text": [
      "Observed temperature difference between female and male:  0.289230769231\n",
      "p-value:  0.0247\n"
     ]
    }
   ],
   "source": [
    "# Null hypothesis: There is no difference between male and female temperature. \n",
    "# We will perfom permutation to asses this hypothesis. We set difference in mean as test statistics.\n",
    "\n",
    "# A function to calculate difference of mean between two data:\n",
    "def diff_mean(data1, data2):\n",
    "    return np.abs(np.mean(data1) - np.mean(data2))\n",
    "\n",
    "diff_mean_orig = diff_mean(temp_female, temp_male)\n",
    "\n",
    "# Perform permutation replicates:\n",
    "def draw_perm_reps(data1, data2, func, size=1):\n",
    "    data_all = np.concatenate((data1, data2))\n",
    "    perm_reps = np.empty(size)\n",
    "    for i in range(size):\n",
    "        perm = np.random.permutation(data_all)\n",
    "        data_perm_1 = perm[:len(data1)]\n",
    "        data_perm_2 = perm[len(data1):]\n",
    "        perm_reps[i] = func(data_perm_1, data_perm_2)\n",
    "    return perm_reps   \n",
    "\n",
    "diff_temp_perm_all = draw_perm_reps(temp_female, temp_male, diff_mean, 10000)\n",
    "\n",
    "p_diff = np.sum(diff_temp_perm_all >= diff_mean_orig)/len(diff_temp_perm_all)\n",
    "\n",
    "print(\"Observed temperature difference between female and male: \", diff_mean_orig )\n",
    "print(\"p-value: \", p_diff)\n"
   ]
  },
  {
   "cell_type": "markdown",
   "metadata": {},
   "source": [
    "#### Since p-value is less than 0.05, we will reject the null hypothesis. There is a statistically significant difference between male and female body temperatures."
   ]
  },
  {
   "cell_type": "markdown",
   "metadata": {},
   "source": [
    "#### The mean normal body temperature was held to be 37 ∘C or 98.6 ∘F for more than 120 years since it was first conceptualized and reported by Carl Wunderlich in a famous 1868 book. But, our calculations showed that this value for mean in not correct. With 95% confidence, we calculated that the human body temperature value is between  98.1199807692 and 98.3769423077 ∘F. \n",
    "#### We also showed that there is a significant difference between male and female body temperatures. In average, females have 0.289230769231 higher body temperature than males. "
   ]
  },
  {
   "cell_type": "code",
   "execution_count": null,
   "metadata": {
    "collapsed": true
   },
   "outputs": [],
   "source": []
  }
 ],
 "metadata": {
  "kernelspec": {
   "display_name": "Python 3",
   "language": "python",
   "name": "python3"
  },
  "language_info": {
   "codemirror_mode": {
    "name": "ipython",
    "version": 3
   },
   "file_extension": ".py",
   "mimetype": "text/x-python",
   "name": "python",
   "nbconvert_exporter": "python",
   "pygments_lexer": "ipython3",
   "version": "3.6.2"
  }
 },
 "nbformat": 4,
 "nbformat_minor": 1
}
